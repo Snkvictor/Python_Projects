{
 "cells": [
  {
   "cell_type": "markdown",
   "metadata": {},
   "source": [
    "# IMPORTS"
   ]
  },
  {
   "cell_type": "code",
   "execution_count": 1,
   "metadata": {},
   "outputs": [],
   "source": [
    "from zipfile import ZipFile\n",
    "from pathlib import Path\n",
    "from csv import reader\n",
    "import requests\n",
    "import os\n",
    "import pandas as pd\n",
    "import matplotlib.pyplot as plt\n",
    "import numpy as np"
   ]
  },
  {
   "cell_type": "markdown",
   "metadata": {},
   "source": [
    "# PARAMETRIZAÇÃO"
   ]
  },
  {
   "cell_type": "code",
   "execution_count": 2,
   "metadata": {},
   "outputs": [],
   "source": [
    "base = 'https://www.portaltransparencia.gov.br/download-de-dados/servidores'\n",
    "ano = 2020\n",
    "dtype = 'Servidores'\n",
    "nMeses = 0\n",
    "tabelas = []\n",
    "tabelasDataFrame = []\n",
    "tabelasRemuneracaoServidores = []\n",
    "mediaRemuneracaoBrutaColaboradores = []\n",
    "minRemuneracaoBrutaColaboradores = []\n",
    "maxRemuneracaoBrutaColaboradores = []\n",
    "mediaRemuneracaoLiquidaColaboradores = []\n",
    "minRemuneracaoLiquidaColaboradores = []\n",
    "maxRemuneracaoLiquidaColaboradores = []"
   ]
  },
  {
   "cell_type": "markdown",
   "metadata": {},
   "source": [
    "# DOWNLOADS"
   ]
  },
  {
   "cell_type": "code",
   "execution_count": null,
   "metadata": {},
   "outputs": [
    {
     "name": "stderr",
     "output_type": "stream",
     "text": [
      "c:\\users\\victo\\appdata\\local\\programs\\python\\python37\\lib\\site-packages\\urllib3\\connectionpool.py:988: InsecureRequestWarning: Unverified HTTPS request is being made to host 'www.portaltransparencia.gov.br'. Adding certificate verification is strongly advised. See: https://urllib3.readthedocs.io/en/latest/advanced-usage.html#ssl-warnings\n",
      "  InsecureRequestWarning,\n"
     ]
    }
   ],
   "source": [
    "for i in range(12):\n",
    "    mes = i+1\n",
    "    filename = '%d%02d_%s.zip' % (ano, mes, dtype)\n",
    "    dirname = ''.join(filename.split('.')[:-1])\n",
    "    link = '%s/%d%02d_%s' % (base, ano, mes, dtype)\n",
    "    \n",
    "    if os.path.isdir('./%s' % dirname) == False:\n",
    "        page = requests.get(link, verify=False)\n",
    "        if page.status_code != 200:\n",
    "            nMeses = i\n",
    "            print('Não há mais meses para baixar. O último mês foi o de número %d.' % nMeses)\n",
    "            break\n",
    "        print('Downloading from: %s' % link)    \n",
    "            \n",
    "        with open(filename, 'wb') as f:\n",
    "            f.write(page.content)\n",
    "        print('Extracting')\n",
    "        with ZipFile(filename, 'r') as f:\n",
    "            f.extractall(dirname)\n",
    "    else: \n",
    "        print('%s já existe. Movendo para o próximo link.' % dirname)"
   ]
  },
  {
   "cell_type": "markdown",
   "metadata": {},
   "source": [
    "# LEITURA E DEFINIÇÃO DAS TABELAS"
   ]
  },
  {
   "cell_type": "code",
   "execution_count": null,
   "metadata": {},
   "outputs": [],
   "source": [
    "for i in range(nMeses):\n",
    "    mes = i+1\n",
    "    tabelas.append(pd.read_csv('%d%02d_%s/%d%02d_Remuneracao.csv' % (ano, mes, dtype, ano, mes), encoding='latin', sep=';', decimal=','))\n",
    "    tabelas[-1] = tabelas[-1].drop(len(tabelas[-1])-1)"
   ]
  },
  {
   "cell_type": "code",
   "execution_count": null,
   "metadata": {
    "scrolled": false
   },
   "outputs": [],
   "source": [
    "for tabela in tabelas:\n",
    "    tabelasTemp = pd.DataFrame(tabela, columns=['NOME','CPF', 'REMUNERAÇÃO BÁSICA BRUTA (R$)',\n",
    "                                                               'REMUNERAÇÃO APÓS DEDUÇÕES OBRIGATÓRIAS (R$)',])\n",
    "    tabelasDataFrame.append(tabelasTemp)\n",
    "    tabelasDataFrame[-1].rename(columns={'REMUNERAÇÃO BÁSICA BRUTA (R$)' : 'REMUNERACAO BRUTA',\n",
    "                                               'REMUNERAÇÃO APÓS DEDUÇÕES OBRIGATÓRIAS (R$)' : 'REMUNERACAO LIQUIDA'},\n",
    "                                                inplace=True)\n",
    "    mediaRemuneracaoBrutaColaboradores.append(tabelasDataFrame[-1]['REMUNERACAO BRUTA'].mean())\n",
    "    minRemuneracaoBrutaColaboradores.append(tabelasDataFrame[-1]['REMUNERACAO BRUTA'].min())\n",
    "    maxRemuneracaoBrutaColaboradores.append(tabelasDataFrame[-1]['REMUNERACAO BRUTA'].max())\n",
    "    mediaRemuneracaoLiquidaColaboradores.append(tabelasDataFrame[-1]['REMUNERACAO LIQUIDA'].mean())\n",
    "    minRemuneracaoLiquidaColaboradores.append(tabelasDataFrame[-1]['REMUNERACAO LIQUIDA'].min())\n",
    "    maxRemuneracaoLiquidaColaboradores.append(tabelasDataFrame[-1]['REMUNERACAO LIQUIDA'].max())"
   ]
  },
  {
   "cell_type": "code",
   "execution_count": null,
   "metadata": {},
   "outputs": [],
   "source": []
  },
  {
   "cell_type": "markdown",
   "metadata": {},
   "source": [
    "# OPERAÇÃO"
   ]
  },
  {
   "cell_type": "code",
   "execution_count": null,
   "metadata": {},
   "outputs": [],
   "source": [
    "plt.rcdefaults()\n",
    "fig, ax = plt.subplots()\n",
    "\n",
    "# Example data\n",
    "meses = ('Janeiro', 'Feveiro', 'Março', 'Abril','Maio', 'Junho')\n",
    "y_pos = np.arange(len(meses))\n",
    "remuneracaoBruta = mediaRemuneracaoBrutaColaboradores\n",
    "\n",
    "ax.barh(y_pos, remuneracaoBruta,align='center')\n",
    "ax.set_yticks(y_pos)\n",
    "ax.set_yticklabels(meses)\n",
    "ax.invert_yaxis()\n",
    "ax.set_xlabel('Remuneração Bruta')\n",
    "ax.set_title('Remuneração Bruta ao longo dos meses de 2020')\n",
    "\n",
    "plt.show()\n"
   ]
  },
  {
   "cell_type": "code",
   "execution_count": null,
   "metadata": {},
   "outputs": [],
   "source": [
    "plt.rcdefaults()\n",
    "fig, ax = plt.subplots()\n",
    "\n",
    "# Example data\n",
    "meses = ('Janeiro', 'Feveiro', 'Março', 'Abril','Maio', 'Junho')\n",
    "y_pos = np.arange(len(meses))\n",
    "remuneracaoBruta = mediaRemuneracaoLiquidaColaboradores\n",
    "\n",
    "ax.barh(y_pos, remuneracaoBruta,align='center')\n",
    "ax.set_yticks(y_pos)\n",
    "ax.set_yticklabels(meses)\n",
    "ax.invert_yaxis()\n",
    "ax.set_xlabel('Remuneração Líquida')\n",
    "ax.set_title('Remuneração Líquida ao longo dos meses de 2020')\n",
    "\n",
    "plt.show()\n"
   ]
  },
  {
   "cell_type": "code",
   "execution_count": null,
   "metadata": {
    "scrolled": false
   },
   "outputs": [],
   "source": [
    "for i in range(nMeses):\n",
    "    mes = i+1\n",
    "    print('A média de salário BRUTO dos %s no mês %02d do ano de %d é de: R$ %.2f' % (dtype.upper(), mes, ano,mediaRemuneracaoBrutaColaboradores[i]))\n",
    "    print('O menor salário BRUTO dos %s no mês %02d do ano de %d é de: R$ %.2f' % (dtype.upper(), mes, ano,minRemuneracaoBrutaColaboradores[i]))\n",
    "    print('O maior salário BRUTO dos %s no mês %02d do ano de %d é de: R$ %.2f' % (dtype.upper(), mes, ano,maxRemuneracaoBrutaColaboradores[i]))\n",
    "    print('A média de salário LÍQUIDO dos %s no mês %02d do ano de %d é de: R$ %.2f' % (dtype.upper(), mes, ano, mediaRemuneracaoLiquidaColaboradores[i]))\n",
    "    print('O menor salário LÍQUIDO dos %s no mês %02d do ano de %d é de: R$ %.2f' % (dtype.upper(), mes, ano,minRemuneracaoLiquidaColaboradores[i]))\n",
    "    print('O maior salário LÍQUIDO dos %s no mês %02d do ano de %d é de: R$ %.2f' % (dtype.upper(), mes, ano,maxRemuneracaoLiquidaColaboradores[i]))\n",
    "    print('___________________________________________________________________________\\n')"
   ]
  }
 ],
 "metadata": {
  "kernelspec": {
   "display_name": "Python 3",
   "language": "python",
   "name": "python3"
  },
  "language_info": {
   "codemirror_mode": {
    "name": "ipython",
    "version": 3
   },
   "file_extension": ".py",
   "mimetype": "text/x-python",
   "name": "python",
   "nbconvert_exporter": "python",
   "pygments_lexer": "ipython3",
   "version": "3.7.9"
  }
 },
 "nbformat": 4,
 "nbformat_minor": 4
}
