{
 "cells": [
  {
   "cell_type": "markdown",
   "metadata": {},
   "source": [
    "# IMPORTS"
   ]
  },
  {
   "cell_type": "code",
   "execution_count": 1,
   "metadata": {},
   "outputs": [],
   "source": [
    "from zipfile import ZipFile\n",
    "from pathlib import Path\n",
    "from csv import reader\n",
    "import requests\n",
    "import os\n",
    "import pandas as pd\n",
    "import matplotlib.pyplot as plt\n",
    "import numpy as np"
   ]
  },
  {
   "cell_type": "markdown",
   "metadata": {},
   "source": [
    "# PARAMETRIZAÇÃO"
   ]
  },
  {
   "cell_type": "code",
   "execution_count": 2,
   "metadata": {},
   "outputs": [],
   "source": [
    "base = 'https://www.portaltransparencia.gov.br/download-de-dados/servidores'\n",
    "ano = 2020\n",
    "dtype = 'Servidores'\n",
    "nMeses = 0\n",
    "tabelas = []\n",
    "tabelasDataFrame = []\n",
    "tabelasRemuneracaoServidores = []\n",
    "mediaRemuneracaoBrutaColaboradores = []\n",
    "minRemuneracaoBrutaColaboradores = []\n",
    "maxRemuneracaoBrutaColaboradores = []\n",
    "mediaRemuneracaoLiquidaColaboradores = []\n",
    "minRemuneracaoLiquidaColaboradores = []\n",
    "maxRemuneracaoLiquidaColaboradores = []"
   ]
  },
  {
   "cell_type": "markdown",
   "metadata": {},
   "source": [
    "# DOWNLOADS"
   ]
  },
  {
   "cell_type": "code",
   "execution_count": 3,
   "metadata": {},
   "outputs": [
    {
     "name": "stderr",
     "output_type": "stream",
     "text": [
      "c:\\users\\victo\\appdata\\local\\programs\\python\\python37\\lib\\site-packages\\urllib3\\connectionpool.py:988: InsecureRequestWarning: Unverified HTTPS request is being made to host 'www.portaltransparencia.gov.br'. Adding certificate verification is strongly advised. See: https://urllib3.readthedocs.io/en/latest/advanced-usage.html#ssl-warnings\n",
      "  InsecureRequestWarning,\n"
     ]
    },
    {
     "name": "stdout",
     "output_type": "stream",
     "text": [
      "Downloading from: https://www.portaltransparencia.gov.br/download-de-dados/servidores/202001_Servidores\n",
      "Extracting\n"
     ]
    },
    {
     "name": "stderr",
     "output_type": "stream",
     "text": [
      "c:\\users\\victo\\appdata\\local\\programs\\python\\python37\\lib\\site-packages\\urllib3\\connectionpool.py:988: InsecureRequestWarning: Unverified HTTPS request is being made to host 'www.portaltransparencia.gov.br'. Adding certificate verification is strongly advised. See: https://urllib3.readthedocs.io/en/latest/advanced-usage.html#ssl-warnings\n",
      "  InsecureRequestWarning,\n"
     ]
    },
    {
     "name": "stdout",
     "output_type": "stream",
     "text": [
      "Downloading from: https://www.portaltransparencia.gov.br/download-de-dados/servidores/202002_Servidores\n",
      "Extracting\n"
     ]
    },
    {
     "name": "stderr",
     "output_type": "stream",
     "text": [
      "c:\\users\\victo\\appdata\\local\\programs\\python\\python37\\lib\\site-packages\\urllib3\\connectionpool.py:988: InsecureRequestWarning: Unverified HTTPS request is being made to host 'www.portaltransparencia.gov.br'. Adding certificate verification is strongly advised. See: https://urllib3.readthedocs.io/en/latest/advanced-usage.html#ssl-warnings\n",
      "  InsecureRequestWarning,\n"
     ]
    },
    {
     "name": "stdout",
     "output_type": "stream",
     "text": [
      "Downloading from: https://www.portaltransparencia.gov.br/download-de-dados/servidores/202003_Servidores\n",
      "Extracting\n"
     ]
    },
    {
     "name": "stderr",
     "output_type": "stream",
     "text": [
      "c:\\users\\victo\\appdata\\local\\programs\\python\\python37\\lib\\site-packages\\urllib3\\connectionpool.py:988: InsecureRequestWarning: Unverified HTTPS request is being made to host 'www.portaltransparencia.gov.br'. Adding certificate verification is strongly advised. See: https://urllib3.readthedocs.io/en/latest/advanced-usage.html#ssl-warnings\n",
      "  InsecureRequestWarning,\n"
     ]
    },
    {
     "name": "stdout",
     "output_type": "stream",
     "text": [
      "Downloading from: https://www.portaltransparencia.gov.br/download-de-dados/servidores/202004_Servidores\n",
      "Extracting\n"
     ]
    },
    {
     "name": "stderr",
     "output_type": "stream",
     "text": [
      "c:\\users\\victo\\appdata\\local\\programs\\python\\python37\\lib\\site-packages\\urllib3\\connectionpool.py:988: InsecureRequestWarning: Unverified HTTPS request is being made to host 'www.portaltransparencia.gov.br'. Adding certificate verification is strongly advised. See: https://urllib3.readthedocs.io/en/latest/advanced-usage.html#ssl-warnings\n",
      "  InsecureRequestWarning,\n"
     ]
    },
    {
     "name": "stdout",
     "output_type": "stream",
     "text": [
      "Downloading from: https://www.portaltransparencia.gov.br/download-de-dados/servidores/202005_Servidores\n",
      "Extracting\n"
     ]
    },
    {
     "name": "stderr",
     "output_type": "stream",
     "text": [
      "c:\\users\\victo\\appdata\\local\\programs\\python\\python37\\lib\\site-packages\\urllib3\\connectionpool.py:988: InsecureRequestWarning: Unverified HTTPS request is being made to host 'www.portaltransparencia.gov.br'. Adding certificate verification is strongly advised. See: https://urllib3.readthedocs.io/en/latest/advanced-usage.html#ssl-warnings\n",
      "  InsecureRequestWarning,\n"
     ]
    },
    {
     "name": "stdout",
     "output_type": "stream",
     "text": [
      "Downloading from: https://www.portaltransparencia.gov.br/download-de-dados/servidores/202006_Servidores\n",
      "Extracting\n",
      "Não há mais meses para baixar. O último mês foi o de número 6.\n"
     ]
    },
    {
     "name": "stderr",
     "output_type": "stream",
     "text": [
      "c:\\users\\victo\\appdata\\local\\programs\\python\\python37\\lib\\site-packages\\urllib3\\connectionpool.py:988: InsecureRequestWarning: Unverified HTTPS request is being made to host 'www.portaltransparencia.gov.br'. Adding certificate verification is strongly advised. See: https://urllib3.readthedocs.io/en/latest/advanced-usage.html#ssl-warnings\n",
      "  InsecureRequestWarning,\n"
     ]
    }
   ],
   "source": [
    "for i in range(12):\n",
    "    mes = i+1\n",
    "    filename = '%d%02d_%s.zip' % (ano, mes, dtype)\n",
    "    dirname = ''.join(filename.split('.')[:-1])\n",
    "    link = '%s/%d%02d_%s' % (base, ano, mes, dtype)\n",
    "    \n",
    "    if os.path.isdir('./%s' % dirname) == False:\n",
    "        page = requests.get(link, verify=False)\n",
    "        if page.status_code != 200:\n",
    "            nMeses = i\n",
    "            print('Não há mais meses para baixar. O último mês foi o de número %d.' % nMeses)\n",
    "            break\n",
    "        print('Downloading from: %s' % link)    \n",
    "            \n",
    "        with open(filename, 'wb') as f:\n",
    "            f.write(page.content)\n",
    "        print('Extracting')\n",
    "        with ZipFile(filename, 'r') as f:\n",
    "            f.extractall(dirname)\n",
    "    else: \n",
    "        print('%s já existe. Movendo para o próximo link.' % dirname)"
   ]
  },
  {
   "cell_type": "markdown",
   "metadata": {},
   "source": [
    "# LEITURA E DEFINIÇÃO DAS TABELAS"
   ]
  },
  {
   "cell_type": "code",
   "execution_count": 4,
   "metadata": {},
   "outputs": [
    {
     "name": "stderr",
     "output_type": "stream",
     "text": [
      "c:\\users\\victo\\appdata\\local\\programs\\python\\python37\\lib\\site-packages\\IPython\\core\\interactiveshell.py:3146: DtypeWarning: Columns (0) have mixed types.Specify dtype option on import or set low_memory=False.\n",
      "  interactivity=interactivity, compiler=compiler, result=result)\n"
     ]
    }
   ],
   "source": [
    "for i in range(nMeses):\n",
    "    mes = i+1\n",
    "    tabelas.append(pd.read_csv('%d%02d_%s/%d%02d_Remuneracao.csv' % (ano, mes, dtype, ano, mes), encoding='latin', sep=';', decimal=','))\n",
    "    tabelas[-1] = tabelas[-1].drop(len(tabelas[-1])-1)"
   ]
  },
  {
   "cell_type": "code",
   "execution_count": 5,
   "metadata": {
    "scrolled": false
   },
   "outputs": [],
   "source": [
    "for tabela in tabelas:\n",
    "    tabelasTemp = pd.DataFrame(tabela, columns=['NOME','CPF', 'REMUNERAÇÃO BÁSICA BRUTA (R$)',\n",
    "                                                               'REMUNERAÇÃO APÓS DEDUÇÕES OBRIGATÓRIAS (R$)',])\n",
    "    tabelasDataFrame.append(tabelasTemp)\n",
    "    tabelasDataFrame[-1].rename(columns={'REMUNERAÇÃO BÁSICA BRUTA (R$)' : 'REMUNERACAO BRUTA',\n",
    "                                               'REMUNERAÇÃO APÓS DEDUÇÕES OBRIGATÓRIAS (R$)' : 'REMUNERACAO LIQUIDA'},\n",
    "                                                inplace=True)\n",
    "    mediaRemuneracaoBrutaColaboradores.append(tabelasDataFrame[-1]['REMUNERACAO BRUTA'].mean())\n",
    "    minRemuneracaoBrutaColaboradores.append(tabelasDataFrame[-1]['REMUNERACAO BRUTA'].min())\n",
    "    maxRemuneracaoBrutaColaboradores.append(tabelasDataFrame[-1]['REMUNERACAO BRUTA'].max())\n",
    "    mediaRemuneracaoLiquidaColaboradores.append(tabelasDataFrame[-1]['REMUNERACAO LIQUIDA'].mean())\n",
    "    minRemuneracaoLiquidaColaboradores.append(tabelasDataFrame[-1]['REMUNERACAO LIQUIDA'].min())\n",
    "    maxRemuneracaoLiquidaColaboradores.append(tabelasDataFrame[-1]['REMUNERACAO LIQUIDA'].max())"
   ]
  },
  {
   "cell_type": "code",
   "execution_count": null,
   "metadata": {},
   "outputs": [],
   "source": []
  },
  {
   "cell_type": "markdown",
   "metadata": {},
   "source": [
    "# OPERAÇÃO"
   ]
  },
  {
   "cell_type": "code",
   "execution_count": 6,
   "metadata": {},
   "outputs": [
    {
     "data": {
      "image/png": "[encoded data removed]",
      "text/plain": [
       "<Figure size 640x480 with 1 Axes>"
      ]
     },
     "metadata": {},
     "output_type": "display_data"
    }
   ],
   "source": [
    "plt.rcdefaults()\n",
    "fig, ax = plt.subplots()\n",
    "\n",
    "# Example data\n",
    "meses = ('Janeiro', 'Feveiro', 'Março', 'Abril','Maio', 'Junho')\n",
    "y_pos = np.arange(len(meses))\n",
    "remuneracaoBruta = mediaRemuneracaoBrutaColaboradores\n",
    "\n",
    "ax.barh(y_pos, remuneracaoBruta,align='center')\n",
    "ax.set_yticks(y_pos)\n",
    "ax.set_yticklabels(meses)\n",
    "ax.invert_yaxis()\n",
    "ax.set_xlabel('Remuneração Bruta')\n",
    "ax.set_title('Remuneração Bruta ao longo dos meses de 2020')\n",
    "\n",
    "plt.show()\n"
   ]
  },
  {
   "cell_type": "code",
   "execution_count": 7,
   "metadata": {},
   "outputs": [
    {
     "data": {
      "image/png": "[encoded data removed]",
      "text/plain": [
       "<Figure size 640x480 with 1 Axes>"
      ]
     },
     "metadata": {},
     "output_type": "display_data"
    }
   ],
   "source": [
    "plt.rcdefaults()\n",
    "fig, ax = plt.subplots()\n",
    "\n",
    "# Example data\n",
    "meses = ('Janeiro', 'Feveiro', 'Março', 'Abril','Maio', 'Junho')\n",
    "y_pos = np.arange(len(meses))\n",
    "remuneracaoBruta = mediaRemuneracaoLiquidaColaboradores\n",
    "\n",
    "ax.barh(y_pos, remuneracaoBruta,align='center')\n",
    "ax.set_yticks(y_pos)\n",
    "ax.set_yticklabels(meses)\n",
    "ax.invert_yaxis()\n",
    "ax.set_xlabel('Remuneração Líquida')\n",
    "ax.set_title('Remuneração Líquida ao longo dos meses de 2020')\n",
    "\n",
    "plt.show()\n"
   ]
  },
  {
   "cell_type": "code",
   "execution_count": 8,
   "metadata": {
    "scrolled": false
   },
   "outputs": [
    {
     "name": "stdout",
     "output_type": "stream",
     "text": [
      "A média de salário BRUTO dos SERVIDORES no mês 01 do ano de 2020 é de: R$ 10269.55\n",
      "O menor salário BRUTO dos SERVIDORES no mês 01 do ano de 2020 é de: R$ 0.00\n",
      "O maior salário BRUTO dos SERVIDORES no mês 01 do ano de 2020 é de: R$ 64795.84\n",
      "A média de salário LÍQUIDO dos SERVIDORES no mês 01 do ano de 2020 é de: R$ 8930.27\n",
      "O menor salário LÍQUIDO dos SERVIDORES no mês 01 do ano de 2020 é de: R$ -26168.36\n",
      "O maior salário LÍQUIDO dos SERVIDORES no mês 01 do ano de 2020 é de: R$ 93205.65\n",
      "___________________________________________________________________________\n",
      "\n",
      "A média de salário BRUTO dos SERVIDORES no mês 02 do ano de 2020 é de: R$ 10248.06\n",
      "O menor salário BRUTO dos SERVIDORES no mês 02 do ano de 2020 é de: R$ 0.00\n",
      "O maior salário BRUTO dos SERVIDORES no mês 02 do ano de 2020 é de: R$ 64795.84\n",
      "A média de salário LÍQUIDO dos SERVIDORES no mês 02 do ano de 2020 é de: R$ 8330.98\n",
      "O menor salário LÍQUIDO dos SERVIDORES no mês 02 do ano de 2020 é de: R$ -22765.26\n",
      "O maior salário LÍQUIDO dos SERVIDORES no mês 02 do ano de 2020 é de: R$ 90285.17\n",
      "___________________________________________________________________________\n",
      "\n",
      "A média de salário BRUTO dos SERVIDORES no mês 03 do ano de 2020 é de: R$ 9497.77\n",
      "O menor salário BRUTO dos SERVIDORES no mês 03 do ano de 2020 é de: R$ 0.00\n",
      "O maior salário BRUTO dos SERVIDORES no mês 03 do ano de 2020 é de: R$ 64795.84\n",
      "A média de salário LÍQUIDO dos SERVIDORES no mês 03 do ano de 2020 é de: R$ 7642.01\n",
      "O menor salário LÍQUIDO dos SERVIDORES no mês 03 do ano de 2020 é de: R$ -41387.41\n",
      "O maior salário LÍQUIDO dos SERVIDORES no mês 03 do ano de 2020 é de: R$ 139799.77\n",
      "___________________________________________________________________________\n",
      "\n",
      "A média de salário BRUTO dos SERVIDORES no mês 04 do ano de 2020 é de: R$ 10214.60\n",
      "O menor salário BRUTO dos SERVIDORES no mês 04 do ano de 2020 é de: R$ 0.00\n",
      "O maior salário BRUTO dos SERVIDORES no mês 04 do ano de 2020 é de: R$ 64795.84\n",
      "A média de salário LÍQUIDO dos SERVIDORES no mês 04 do ano de 2020 é de: R$ 8132.63\n",
      "O menor salário LÍQUIDO dos SERVIDORES no mês 04 do ano de 2020 é de: R$ -18383.20\n",
      "O maior salário LÍQUIDO dos SERVIDORES no mês 04 do ano de 2020 é de: R$ 65495.94\n",
      "___________________________________________________________________________\n",
      "\n",
      "A média de salário BRUTO dos SERVIDORES no mês 05 do ano de 2020 é de: R$ 10294.63\n",
      "O menor salário BRUTO dos SERVIDORES no mês 05 do ano de 2020 é de: R$ 0.00\n",
      "O maior salário BRUTO dos SERVIDORES no mês 05 do ano de 2020 é de: R$ 64795.84\n",
      "A média de salário LÍQUIDO dos SERVIDORES no mês 05 do ano de 2020 é de: R$ 8208.05\n",
      "O menor salário LÍQUIDO dos SERVIDORES no mês 05 do ano de 2020 é de: R$ -19342.51\n",
      "O maior salário LÍQUIDO dos SERVIDORES no mês 05 do ano de 2020 é de: R$ 70192.31\n",
      "___________________________________________________________________________\n",
      "\n",
      "A média de salário BRUTO dos SERVIDORES no mês 06 do ano de 2020 é de: R$ 10356.53\n",
      "O menor salário BRUTO dos SERVIDORES no mês 06 do ano de 2020 é de: R$ 0.00\n",
      "O maior salário BRUTO dos SERVIDORES no mês 06 do ano de 2020 é de: R$ 64795.84\n",
      "A média de salário LÍQUIDO dos SERVIDORES no mês 06 do ano de 2020 é de: R$ 11050.15\n",
      "O menor salário LÍQUIDO dos SERVIDORES no mês 06 do ano de 2020 é de: R$ -33227.35\n",
      "O maior salário LÍQUIDO dos SERVIDORES no mês 06 do ano de 2020 é de: R$ 177648.72\n",
      "___________________________________________________________________________\n",
      "\n"
     ]
    }
   ],
   "source": [
    "for i in range(nMeses):\n",
    "    mes = i+1\n",
    "    print('A média de salário BRUTO dos %s no mês %02d do ano de %d é de: R$ %.2f' % (dtype.upper(), mes, ano,mediaRemuneracaoBrutaColaboradores[i]))\n",
    "    print('O menor salário BRUTO dos %s no mês %02d do ano de %d é de: R$ %.2f' % (dtype.upper(), mes, ano,minRemuneracaoBrutaColaboradores[i]))\n",
    "    print('O maior salário BRUTO dos %s no mês %02d do ano de %d é de: R$ %.2f' % (dtype.upper(), mes, ano,maxRemuneracaoBrutaColaboradores[i]))\n",
    "    print('A média de salário LÍQUIDO dos %s no mês %02d do ano de %d é de: R$ %.2f' % (dtype.upper(), mes, ano, mediaRemuneracaoLiquidaColaboradores[i]))\n",
    "    print('O menor salário LÍQUIDO dos %s no mês %02d do ano de %d é de: R$ %.2f' % (dtype.upper(), mes, ano,minRemuneracaoLiquidaColaboradores[i]))\n",
    "    print('O maior salário LÍQUIDO dos %s no mês %02d do ano de %d é de: R$ %.2f' % (dtype.upper(), mes, ano,maxRemuneracaoLiquidaColaboradores[i]))\n",
    "    print('___________________________________________________________________________\\n')"
   ]
  }
 ],
 "metadata": {
  "kernelspec": {
   "display_name": "Python 3",
   "language": "python",
   "name": "python3"
  },
  "language_info": {
   "codemirror_mode": {
    "name": "ipython",
    "version": 3
   },
   "file_extension": ".py",
   "mimetype": "text/x-python",
   "name": "python",
   "nbconvert_exporter": "python",
   "pygments_lexer": "ipython3",
   "version": "3.7.9"
  }
 },
 "nbformat": 4,
 "nbformat_minor": 4
}
