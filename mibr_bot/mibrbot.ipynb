{
 "cells": [
  {
   "cell_type": "code",
   "execution_count": 1,
   "metadata": {},
   "outputs": [],
   "source": [
    "import hltv\n",
    "import os\n",
    "import csv\n",
    "import pandas as pd\n",
    "import datetime"
   ]
  },
  {
   "cell_type": "code",
   "execution_count": 2,
   "metadata": {},
   "outputs": [],
   "source": [
    "matches = hltv.get_matches()"
   ]
  },
  {
   "cell_type": "code",
   "execution_count": 3,
   "metadata": {
    "tags": []
   },
   "outputs": [],
   "source": [
    "with open('matches.csv', 'w', newline='') as file:\n",
    "    fieldnames = ['dateTime', 'event', 'team1', 'team2']\n",
    "    writer = csv.DictWriter(file, fieldnames=fieldnames)\n",
    "    writer.writeheader()\n",
    "    for i in range(len(matches)):\n",
    "        hours,minutes = matches[i]['time'].split(sep=':')\n",
    "        writer.writerow({'dateTime': matches[i]['date'] + '-' + hours + '-' + minutes,\n",
    "        'event': matches[i]['event'],\n",
    "        'team1': matches[i]['team1'],\n",
    "        'team2': matches[i]['team2']})"
   ]
  },
  {
   "cell_type": "code",
   "execution_count": 4,
   "metadata": {},
   "outputs": [],
   "source": [
    "matchesTable = pd.read_csv('matches.csv', encoding='latin')"
   ]
  },
  {
   "cell_type": "code",
   "execution_count": 5,
   "metadata": {
    "tags": []
   },
   "outputs": [],
   "source": [
    "for i in range(len(matchesTable)):\n",
    "    dt = matchesTable.at[i, 'dateTime']\n",
    "    year,month,day,hour,minute = dt.split(sep='-')\n",
    "    matchesTable.at[i, 'dateTime'] = datetime.datetime(int(year),int(month),int(day),int(hour), int(minute)) - datetime.timedelta(hours=5)"
   ]
  },
  {
   "cell_type": "code",
   "execution_count": 6,
   "metadata": {
    "tags": []
   },
   "outputs": [
    {
     "output_type": "execute_result",
     "data": {
      "text/plain": "               dateTime                                         event  \\\n0   2020-08-21 13:00:00               b'Eden Arena Malta Vibes Cup 8'   \n1   2020-08-21 13:00:00               b'Eden Arena Malta Vibes Cup 8'   \n2   2020-08-21 13:00:00       b'ESEA MDL Season 34 Europe Relegation'   \n3   2020-08-21 13:30:00                b'ESL One Cologne 2020 Europe'   \n4   2020-08-21 14:00:00     b\"Malta Vibes 8 - Group B winners' match\"   \n..                  ...                                           ...   \n80  2020-08-29 13:30:00       b'ESL One Cologne Europe Semi-Final #2'   \n81  2020-08-29 17:00:00  b'ESL One Cologne North America Grand Final'   \n82  2020-08-30 03:00:00        b'ESL One Cologne Oceania Grand Final'   \n83  2020-08-30 06:30:00           b'ESL One Cologne Asia Grand Final'   \n84  2020-08-30 13:30:00         b'ESL One Cologne Europe Grand Final'   \n\n          team1     team2  \n0   b'selectah'  b'Apeks'  \n1     b'Spirit'  b'SKADE'  \n2   b'Heretics'   b'9INE'  \n3       b'MIBR'   b'FaZe'  \n4           NaN       NaN  \n..          ...       ...  \n80          NaN       NaN  \n81          NaN       NaN  \n82          NaN       NaN  \n83          NaN       NaN  \n84          NaN       NaN  \n\n[85 rows x 4 columns]",
      "text/html": "<div>\n<style scoped>\n    .dataframe tbody tr th:only-of-type {\n        vertical-align: middle;\n    }\n\n    .dataframe tbody tr th {\n        vertical-align: top;\n    }\n\n    .dataframe thead th {\n        text-align: right;\n    }\n</style>\n<table border=\"1\" class=\"dataframe\">\n  <thead>\n    <tr style=\"text-align: right;\">\n      <th></th>\n      <th>dateTime</th>\n      <th>event</th>\n      <th>team1</th>\n      <th>team2</th>\n    </tr>\n  </thead>\n  <tbody>\n    <tr>\n      <th>0</th>\n      <td>2020-08-21 13:00:00</td>\n      <td>b'Eden Arena Malta Vibes Cup 8'</td>\n      <td>b'selectah'</td>\n      <td>b'Apeks'</td>\n    </tr>\n    <tr>\n      <th>1</th>\n      <td>2020-08-21 13:00:00</td>\n      <td>b'Eden Arena Malta Vibes Cup 8'</td>\n      <td>b'Spirit'</td>\n      <td>b'SKADE'</td>\n    </tr>\n    <tr>\n      <th>2</th>\n      <td>2020-08-21 13:00:00</td>\n      <td>b'ESEA MDL Season 34 Europe Relegation'</td>\n      <td>b'Heretics'</td>\n      <td>b'9INE'</td>\n    </tr>\n    <tr>\n      <th>3</th>\n      <td>2020-08-21 13:30:00</td>\n      <td>b'ESL One Cologne 2020 Europe'</td>\n      <td>b'MIBR'</td>\n      <td>b'FaZe'</td>\n    </tr>\n    <tr>\n      <th>4</th>\n      <td>2020-08-21 14:00:00</td>\n      <td>b\"Malta Vibes 8 - Group B winners' match\"</td>\n      <td>NaN</td>\n      <td>NaN</td>\n    </tr>\n    <tr>\n      <th>...</th>\n      <td>...</td>\n      <td>...</td>\n      <td>...</td>\n      <td>...</td>\n    </tr>\n    <tr>\n      <th>80</th>\n      <td>2020-08-29 13:30:00</td>\n      <td>b'ESL One Cologne Europe Semi-Final #2'</td>\n      <td>NaN</td>\n      <td>NaN</td>\n    </tr>\n    <tr>\n      <th>81</th>\n      <td>2020-08-29 17:00:00</td>\n      <td>b'ESL One Cologne North America Grand Final'</td>\n      <td>NaN</td>\n      <td>NaN</td>\n    </tr>\n    <tr>\n      <th>82</th>\n      <td>2020-08-30 03:00:00</td>\n      <td>b'ESL One Cologne Oceania Grand Final'</td>\n      <td>NaN</td>\n      <td>NaN</td>\n    </tr>\n    <tr>\n      <th>83</th>\n      <td>2020-08-30 06:30:00</td>\n      <td>b'ESL One Cologne Asia Grand Final'</td>\n      <td>NaN</td>\n      <td>NaN</td>\n    </tr>\n    <tr>\n      <th>84</th>\n      <td>2020-08-30 13:30:00</td>\n      <td>b'ESL One Cologne Europe Grand Final'</td>\n      <td>NaN</td>\n      <td>NaN</td>\n    </tr>\n  </tbody>\n</table>\n<p>85 rows × 4 columns</p>\n</div>"
     },
     "metadata": {},
     "execution_count": 6
    }
   ],
   "source": [
    "matchesTable"
   ]
  }
 ],
 "metadata": {
  "kernelspec": {
   "display_name": "Python 3",
   "language": "python",
   "name": "python3"
  },
  "language_info": {
   "codemirror_mode": {
    "name": "ipython",
    "version": 3
   },
   "file_extension": ".py",
   "mimetype": "text/x-python",
   "name": "python",
   "nbconvert_exporter": "python",
   "pygments_lexer": "ipython3",
   "version": "3.7.9-final"
  }
 },
 "nbformat": 4,
 "nbformat_minor": 4
}